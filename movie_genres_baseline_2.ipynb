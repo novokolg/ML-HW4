{
 "cells": [
  {
   "cell_type": "markdown",
   "metadata": {},
   "source": [
    "# Movie genres \n",
    "## Baseline 2: TFIDF & LogisticRegressin"
   ]
  },
  {
   "cell_type": "code",
   "execution_count": 1,
   "metadata": {},
   "outputs": [],
   "source": [
    "import pandas as pd\n",
    "import numpy as np\n",
    "from tqdm import tqdm_notebook\n",
    "import warnings\n",
    "warnings.filterwarnings('ignore')\n",
    "import matplotlib.pyplot as plt\n",
    "import seaborn as sns\n",
    "%matplotlib inline\n",
    "\n",
    "from sklearn.model_selection import train_test_split\n",
    "from sklearn.feature_extraction.text import TfidfVectorizer\n",
    "from sklearn.preprocessing import MultiLabelBinarizer\n",
    "from sklearn.linear_model import LogisticRegression\n",
    "from sklearn.multiclass import OneVsRestClassifier\n",
    "from sklearn.metrics import f1_score"
   ]
  },
  {
   "cell_type": "markdown",
   "metadata": {},
   "source": [
    "## Загружаем данные"
   ]
  },
  {
   "cell_type": "code",
   "execution_count": 2,
   "metadata": {},
   "outputs": [],
   "source": [
    "train = pd.read_csv('data/train.csv')\n",
    "test = pd.read_csv('data/test.csv')\n",
    "sample_submission = pd.read_csv('data/sample_submission_most_popular.csv')"
   ]
  },
  {
   "cell_type": "markdown",
   "metadata": {},
   "source": [
    "## Работаем с обучающей выборкой"
   ]
  },
  {
   "cell_type": "code",
   "execution_count": 3,
   "metadata": {},
   "outputs": [
    {
     "data": {
      "text/plain": [
       "(36991, 10730)"
      ]
     },
     "execution_count": 3,
     "metadata": {},
     "output_type": "execute_result"
    }
   ],
   "source": [
    "# Применяем к обучающей выборке tf-idf преобразование\n",
    "\n",
    "vectorizer = TfidfVectorizer(min_df=5)\n",
    "X = vectorizer.fit_transform(train.dialogue)\n",
    "X.shape"
   ]
  },
  {
   "cell_type": "markdown",
   "metadata": {},
   "source": [
    "## Преобразовываем вектор ответов к виуду multilabel"
   ]
  },
  {
   "cell_type": "code",
   "execution_count": 4,
   "metadata": {},
   "outputs": [
    {
     "data": {
      "text/html": [
       "<div>\n",
       "<style scoped>\n",
       "    .dataframe tbody tr th:only-of-type {\n",
       "        vertical-align: middle;\n",
       "    }\n",
       "\n",
       "    .dataframe tbody tr th {\n",
       "        vertical-align: top;\n",
       "    }\n",
       "\n",
       "    .dataframe thead th {\n",
       "        text-align: right;\n",
       "    }\n",
       "</style>\n",
       "<table border=\"1\" class=\"dataframe\">\n",
       "  <thead>\n",
       "    <tr style=\"text-align: right;\">\n",
       "      <th></th>\n",
       "      <th>action</th>\n",
       "      <th>adventure</th>\n",
       "      <th>animation</th>\n",
       "      <th>biography</th>\n",
       "      <th>comedy</th>\n",
       "      <th>crime</th>\n",
       "      <th>drama</th>\n",
       "      <th>family</th>\n",
       "      <th>fantasy</th>\n",
       "      <th>history</th>\n",
       "      <th>horror</th>\n",
       "      <th>music</th>\n",
       "      <th>musical</th>\n",
       "      <th>mystery</th>\n",
       "      <th>romance</th>\n",
       "      <th>sci-fi</th>\n",
       "      <th>sport</th>\n",
       "      <th>thriller</th>\n",
       "      <th>war</th>\n",
       "      <th>western</th>\n",
       "    </tr>\n",
       "  </thead>\n",
       "  <tbody>\n",
       "    <tr>\n",
       "      <th>0</th>\n",
       "      <td>0</td>\n",
       "      <td>0</td>\n",
       "      <td>0</td>\n",
       "      <td>0</td>\n",
       "      <td>0</td>\n",
       "      <td>0</td>\n",
       "      <td>1</td>\n",
       "      <td>0</td>\n",
       "      <td>0</td>\n",
       "      <td>0</td>\n",
       "      <td>0</td>\n",
       "      <td>0</td>\n",
       "      <td>0</td>\n",
       "      <td>0</td>\n",
       "      <td>1</td>\n",
       "      <td>0</td>\n",
       "      <td>0</td>\n",
       "      <td>0</td>\n",
       "      <td>0</td>\n",
       "      <td>0</td>\n",
       "    </tr>\n",
       "    <tr>\n",
       "      <th>1</th>\n",
       "      <td>0</td>\n",
       "      <td>0</td>\n",
       "      <td>0</td>\n",
       "      <td>0</td>\n",
       "      <td>0</td>\n",
       "      <td>0</td>\n",
       "      <td>1</td>\n",
       "      <td>0</td>\n",
       "      <td>0</td>\n",
       "      <td>0</td>\n",
       "      <td>0</td>\n",
       "      <td>0</td>\n",
       "      <td>0</td>\n",
       "      <td>0</td>\n",
       "      <td>0</td>\n",
       "      <td>0</td>\n",
       "      <td>0</td>\n",
       "      <td>0</td>\n",
       "      <td>0</td>\n",
       "      <td>0</td>\n",
       "    </tr>\n",
       "    <tr>\n",
       "      <th>2</th>\n",
       "      <td>0</td>\n",
       "      <td>0</td>\n",
       "      <td>0</td>\n",
       "      <td>0</td>\n",
       "      <td>1</td>\n",
       "      <td>0</td>\n",
       "      <td>0</td>\n",
       "      <td>0</td>\n",
       "      <td>0</td>\n",
       "      <td>0</td>\n",
       "      <td>0</td>\n",
       "      <td>0</td>\n",
       "      <td>0</td>\n",
       "      <td>0</td>\n",
       "      <td>0</td>\n",
       "      <td>0</td>\n",
       "      <td>0</td>\n",
       "      <td>0</td>\n",
       "      <td>0</td>\n",
       "      <td>0</td>\n",
       "    </tr>\n",
       "    <tr>\n",
       "      <th>3</th>\n",
       "      <td>0</td>\n",
       "      <td>0</td>\n",
       "      <td>0</td>\n",
       "      <td>0</td>\n",
       "      <td>0</td>\n",
       "      <td>0</td>\n",
       "      <td>0</td>\n",
       "      <td>0</td>\n",
       "      <td>0</td>\n",
       "      <td>0</td>\n",
       "      <td>0</td>\n",
       "      <td>0</td>\n",
       "      <td>0</td>\n",
       "      <td>1</td>\n",
       "      <td>0</td>\n",
       "      <td>0</td>\n",
       "      <td>0</td>\n",
       "      <td>1</td>\n",
       "      <td>0</td>\n",
       "      <td>0</td>\n",
       "    </tr>\n",
       "    <tr>\n",
       "      <th>4</th>\n",
       "      <td>0</td>\n",
       "      <td>0</td>\n",
       "      <td>0</td>\n",
       "      <td>0</td>\n",
       "      <td>0</td>\n",
       "      <td>1</td>\n",
       "      <td>0</td>\n",
       "      <td>0</td>\n",
       "      <td>0</td>\n",
       "      <td>0</td>\n",
       "      <td>0</td>\n",
       "      <td>0</td>\n",
       "      <td>0</td>\n",
       "      <td>0</td>\n",
       "      <td>0</td>\n",
       "      <td>0</td>\n",
       "      <td>0</td>\n",
       "      <td>1</td>\n",
       "      <td>0</td>\n",
       "      <td>0</td>\n",
       "    </tr>\n",
       "  </tbody>\n",
       "</table>\n",
       "</div>"
      ],
      "text/plain": [
       "   action  adventure  animation  biography  comedy  crime  drama  family  \\\n",
       "0       0          0          0          0       0      0      1       0   \n",
       "1       0          0          0          0       0      0      1       0   \n",
       "2       0          0          0          0       1      0      0       0   \n",
       "3       0          0          0          0       0      0      0       0   \n",
       "4       0          0          0          0       0      1      0       0   \n",
       "\n",
       "   fantasy  history  horror  music  musical  mystery  romance  sci-fi  sport  \\\n",
       "0        0        0       0      0        0        0        1       0      0   \n",
       "1        0        0       0      0        0        0        0       0      0   \n",
       "2        0        0       0      0        0        0        0       0      0   \n",
       "3        0        0       0      0        0        1        0       0      0   \n",
       "4        0        0       0      0        0        0        0       0      0   \n",
       "\n",
       "   thriller  war  western  \n",
       "0         0    0        0  \n",
       "1         0    0        0  \n",
       "2         0    0        0  \n",
       "3         1    0        0  \n",
       "4         1    0        0  "
      ]
     },
     "execution_count": 4,
     "metadata": {},
     "output_type": "execute_result"
    }
   ],
   "source": [
    "mlb = MultiLabelBinarizer()\n",
    "\n",
    "# вектор ответов у нас в формате строка. Чтобы \"выполнить\" строку и получить список, нам понадобится функция eval\n",
    "\n",
    "train.genres = train.genres.apply(eval)\n",
    "\n",
    "# создаем объект pandas DataFrame: данные - результат преобразования MultiLabelBinarizer, названия столбцов - жанры\n",
    "\n",
    "y = pd.DataFrame(mlb.fit_transform(train.genres), columns=mlb.classes_)\n",
    "\n",
    "y.head()"
   ]
  },
  {
   "cell_type": "markdown",
   "metadata": {},
   "source": [
    "## Оценим качество"
   ]
  },
  {
   "cell_type": "code",
   "execution_count": 5,
   "metadata": {},
   "outputs": [],
   "source": [
    "# Разбиваем выборку для валидации (holdout)\n",
    "\n",
    "X_train, X_test, y_train, y_test = train_test_split(X, y, test_size=0.33, random_state=42)"
   ]
  },
  {
   "cell_type": "markdown",
   "metadata": {},
   "source": [
    "Здесь мы будем использовать sklearn.multiclass.OneVsRestClassifier, который позволяет реализовывать стратегию one-vs-all - обучать отдельную модель для каждого класса, где в качестве положительных примеров берутся все объекты этого класса, в качестве отрицательных - все остальные объекты. "
   ]
  },
  {
   "cell_type": "code",
   "execution_count": 6,
   "metadata": {},
   "outputs": [
    {
     "data": {
      "text/plain": [
       "0.6004945364996152"
      ]
     },
     "execution_count": 6,
     "metadata": {},
     "output_type": "execute_result"
    }
   ],
   "source": [
    "# Оценка качества\n",
    "\n",
    "ovrc = OneVsRestClassifier(LogisticRegression(C=10), n_jobs=-1)\n",
    "ovrc.fit(X_train, y_train)\n",
    "preds = ovrc.predict(X_test)\n",
    "\n",
    "f1_score(y_test, preds, average='samples')"
   ]
  },
  {
   "cell_type": "markdown",
   "metadata": {},
   "source": [
    "Логистическая регрессия может отдавать не только предсказания метки класса, но и вероятность принадлежности объекта к целевому классу. Метрика f1_score сильно зависит от трешхолда по которому мы определяем, какая вероятность достаточна, чтобы считать объект принадлежащим к целевому классу. Попробуем для каждого класса подобрать свой оптимальный трешхолд. (Параметры алгоритма также можно подбирать для каждого класса индивидуально)"
   ]
  },
  {
   "cell_type": "code",
   "execution_count": 7,
   "metadata": {},
   "outputs": [
    {
     "data": {
      "image/png": "[encoded data removed]",
      "text/plain": [
       "<Figure size 1080x1080 with 20 Axes>"
      ]
     },
     "metadata": {
      "needs_background": "light"
     },
     "output_type": "display_data"
    }
   ],
   "source": [
    "# объект DataFrame для хранения результатов экспериментов по подбору treshold\n",
    "\n",
    "treshold_df = pd.DataFrame(index=y.columns, columns=['best_treshold', 'best_f1'])\n",
    "\n",
    "# сетка возможных значений для treshold\n",
    "\n",
    "tresholds = [0.1, 0.2, 0.3, 0.4, 0.5, 0.6, 0.7, 0.8, 0.9]\n",
    "\n",
    "# решающий алгоритм\n",
    "\n",
    "lr = LogisticRegression(C=10)\n",
    "\n",
    "# для каждого класса рисуем график зависимости качества f1_score от значения treshold\n",
    "\n",
    "f, axs = plt.subplots(5, 4, figsize = (15, 15), sharex=True, sharey=True)\n",
    "for n, yi in enumerate(y.columns):\n",
    "    q = [] # сюда для класса yi мы будем записывать f1_score в зависимости от значения treshold\n",
    "    for tr in tresholds:\n",
    "        lr.fit(X_train, y_train[yi])\n",
    "        preds = lr.predict_proba(X_test)[:,1]\n",
    "        q.append(f1_score(y_test[yi], preds>tr))\n",
    "        \n",
    "    # в соответствующей ячейке сетки рисуем график и подписываем заголовок\n",
    "    \n",
    "    axs.flatten()[n].plot(tresholds, q) \n",
    "    axs.flatten()[n].title.set_text(yi) \n",
    "    \n",
    "    # Записываем в таблицу лучший скор и treshold который его обеспечил\n",
    "    \n",
    "    treshold_df.loc[yi, 'best_treshold'] = tresholds[np.argmax(q)]\n",
    "    treshold_df.loc[yi, 'best_f1'] = np.max(q)\n",
    "    \n",
    "    # Подписываем оси только для внешних графиков\n",
    "    \n",
    "    if n >= 16: \n",
    "        axs.flatten()[n].set(xlabel='treshold')\n",
    "    if n%4 == 0:\n",
    "        axs.flatten()[n].set(ylabel='f1_score')\n",
    "        "
   ]
  },
  {
   "cell_type": "code",
   "execution_count": 8,
   "metadata": {},
   "outputs": [
    {
     "data": {
      "text/html": [
       "<div>\n",
       "<style scoped>\n",
       "    .dataframe tbody tr th:only-of-type {\n",
       "        vertical-align: middle;\n",
       "    }\n",
       "\n",
       "    .dataframe tbody tr th {\n",
       "        vertical-align: top;\n",
       "    }\n",
       "\n",
       "    .dataframe thead th {\n",
       "        text-align: right;\n",
       "    }\n",
       "</style>\n",
       "<table border=\"1\" class=\"dataframe\">\n",
       "  <thead>\n",
       "    <tr style=\"text-align: right;\">\n",
       "      <th></th>\n",
       "      <th>best_treshold</th>\n",
       "      <th>best_f1</th>\n",
       "    </tr>\n",
       "  </thead>\n",
       "  <tbody>\n",
       "    <tr>\n",
       "      <th>action</th>\n",
       "      <td>0.3</td>\n",
       "      <td>0.627171</td>\n",
       "    </tr>\n",
       "    <tr>\n",
       "      <th>adventure</th>\n",
       "      <td>0.2</td>\n",
       "      <td>0.469349</td>\n",
       "    </tr>\n",
       "    <tr>\n",
       "      <th>animation</th>\n",
       "      <td>0.1</td>\n",
       "      <td>0</td>\n",
       "    </tr>\n",
       "    <tr>\n",
       "      <th>biography</th>\n",
       "      <td>0.2</td>\n",
       "      <td>0.240964</td>\n",
       "    </tr>\n",
       "    <tr>\n",
       "      <th>comedy</th>\n",
       "      <td>0.3</td>\n",
       "      <td>0.658151</td>\n",
       "    </tr>\n",
       "    <tr>\n",
       "      <th>crime</th>\n",
       "      <td>0.3</td>\n",
       "      <td>0.56264</td>\n",
       "    </tr>\n",
       "    <tr>\n",
       "      <th>drama</th>\n",
       "      <td>0.4</td>\n",
       "      <td>0.8137</td>\n",
       "    </tr>\n",
       "    <tr>\n",
       "      <th>family</th>\n",
       "      <td>0.1</td>\n",
       "      <td>0.142857</td>\n",
       "    </tr>\n",
       "    <tr>\n",
       "      <th>fantasy</th>\n",
       "      <td>0.2</td>\n",
       "      <td>0.275304</td>\n",
       "    </tr>\n",
       "    <tr>\n",
       "      <th>history</th>\n",
       "      <td>0.1</td>\n",
       "      <td>0.0533333</td>\n",
       "    </tr>\n",
       "    <tr>\n",
       "      <th>horror</th>\n",
       "      <td>0.1</td>\n",
       "      <td>0.281481</td>\n",
       "    </tr>\n",
       "    <tr>\n",
       "      <th>music</th>\n",
       "      <td>0.1</td>\n",
       "      <td>0.161074</td>\n",
       "    </tr>\n",
       "    <tr>\n",
       "      <th>musical</th>\n",
       "      <td>0.1</td>\n",
       "      <td>0.117647</td>\n",
       "    </tr>\n",
       "    <tr>\n",
       "      <th>mystery</th>\n",
       "      <td>0.2</td>\n",
       "      <td>0.331217</td>\n",
       "    </tr>\n",
       "    <tr>\n",
       "      <th>romance</th>\n",
       "      <td>0.3</td>\n",
       "      <td>0.485282</td>\n",
       "    </tr>\n",
       "    <tr>\n",
       "      <th>sci-fi</th>\n",
       "      <td>0.4</td>\n",
       "      <td>0.572712</td>\n",
       "    </tr>\n",
       "    <tr>\n",
       "      <th>sport</th>\n",
       "      <td>0.1</td>\n",
       "      <td>0.244444</td>\n",
       "    </tr>\n",
       "    <tr>\n",
       "      <th>thriller</th>\n",
       "      <td>0.3</td>\n",
       "      <td>0.750186</td>\n",
       "    </tr>\n",
       "    <tr>\n",
       "      <th>war</th>\n",
       "      <td>0.2</td>\n",
       "      <td>0.273764</td>\n",
       "    </tr>\n",
       "    <tr>\n",
       "      <th>western</th>\n",
       "      <td>0.1</td>\n",
       "      <td>0.17284</td>\n",
       "    </tr>\n",
       "  </tbody>\n",
       "</table>\n",
       "</div>"
      ],
      "text/plain": [
       "          best_treshold    best_f1\n",
       "action              0.3   0.627171\n",
       "adventure           0.2   0.469349\n",
       "animation           0.1          0\n",
       "biography           0.2   0.240964\n",
       "comedy              0.3   0.658151\n",
       "crime               0.3    0.56264\n",
       "drama               0.4     0.8137\n",
       "family              0.1   0.142857\n",
       "fantasy             0.2   0.275304\n",
       "history             0.1  0.0533333\n",
       "horror              0.1   0.281481\n",
       "music               0.1   0.161074\n",
       "musical             0.1   0.117647\n",
       "mystery             0.2   0.331217\n",
       "romance             0.3   0.485282\n",
       "sci-fi              0.4   0.572712\n",
       "sport               0.1   0.244444\n",
       "thriller            0.3   0.750186\n",
       "war                 0.2   0.273764\n",
       "western             0.1    0.17284"
      ]
     },
     "execution_count": 8,
     "metadata": {},
     "output_type": "execute_result"
    }
   ],
   "source": [
    "treshold_df"
   ]
  },
  {
   "cell_type": "code",
   "execution_count": 9,
   "metadata": {},
   "outputs": [
    {
     "data": {
      "text/plain": [
       "0.6475296815278795"
      ]
     },
     "execution_count": 9,
     "metadata": {},
     "output_type": "execute_result"
    }
   ],
   "source": [
    "# Оценим на валидации вклад тюнинга трешхолда в качество\n",
    "\n",
    "ovrc = OneVsRestClassifier(LogisticRegression(C=10), n_jobs=-1)\n",
    "ovrc.fit(X_train, y_train)\n",
    "preds = ovrc.predict_proba(X_test)\n",
    "for n, yi in enumerate(y.columns):\n",
    "    preds[:, n] = preds[:, n] > treshold_df.loc[yi, 'best_treshold']\n",
    "\n",
    "f1_score(y_test, preds, average='samples')"
   ]
  },
  {
   "cell_type": "markdown",
   "metadata": {},
   "source": [
    "## Готовим сабмит"
   ]
  },
  {
   "cell_type": "code",
   "execution_count": 10,
   "metadata": {},
   "outputs": [],
   "source": [
    "# здесь мы обучаем TfidfVectorizer на объединенной выборке (train+test) - это соревноваине поэтому так можно =) \n",
    "\n",
    "vectorizer = TfidfVectorizer(min_df=5)\n",
    "vectorizer.fit(train.dialogue.append(test.dialogue))\n",
    "X_train = vectorizer.transform(train.dialogue)\n",
    "X_test = vectorizer.transform(test.dialogue)\n",
    "\n",
    "y_train = y.copy()\n",
    "\n",
    "# обучаем модель и получаем предсказания для тестовой выборки\n",
    "\n",
    "ovrc.fit(X_train, y_train)\n",
    "preds = ovrc.predict_proba(X_test)\n",
    "\n",
    "# применяем найденные трешхолды\n",
    "\n",
    "for n, yi in enumerate(y.columns):\n",
    "    preds[:, n] = preds[:, n] > treshold_df.loc[yi, 'best_treshold']\n",
    "\n",
    "sample_submission['genres'] = mlb.inverse_transform(preds)\n",
    "sample_submission['genres'] = sample_submission['genres'] .apply(lambda x: ' '.join((x)))\n"
   ]
  },
  {
   "cell_type": "code",
   "execution_count": 11,
   "metadata": {},
   "outputs": [
    {
     "data": {
      "text/html": [
       "<div>\n",
       "<style scoped>\n",
       "    .dataframe tbody tr th:only-of-type {\n",
       "        vertical-align: middle;\n",
       "    }\n",
       "\n",
       "    .dataframe tbody tr th {\n",
       "        vertical-align: top;\n",
       "    }\n",
       "\n",
       "    .dataframe thead th {\n",
       "        text-align: right;\n",
       "    }\n",
       "</style>\n",
       "<table border=\"1\" class=\"dataframe\">\n",
       "  <thead>\n",
       "    <tr style=\"text-align: right;\">\n",
       "      <th></th>\n",
       "      <th>id</th>\n",
       "      <th>genres</th>\n",
       "    </tr>\n",
       "  </thead>\n",
       "  <tbody>\n",
       "    <tr>\n",
       "      <th>125</th>\n",
       "      <td>125</td>\n",
       "      <td></td>\n",
       "    </tr>\n",
       "    <tr>\n",
       "      <th>204</th>\n",
       "      <td>204</td>\n",
       "      <td></td>\n",
       "    </tr>\n",
       "    <tr>\n",
       "      <th>246</th>\n",
       "      <td>246</td>\n",
       "      <td></td>\n",
       "    </tr>\n",
       "    <tr>\n",
       "      <th>270</th>\n",
       "      <td>270</td>\n",
       "      <td></td>\n",
       "    </tr>\n",
       "    <tr>\n",
       "      <th>350</th>\n",
       "      <td>350</td>\n",
       "      <td></td>\n",
       "    </tr>\n",
       "    <tr>\n",
       "      <th>...</th>\n",
       "      <td>...</td>\n",
       "      <td>...</td>\n",
       "    </tr>\n",
       "    <tr>\n",
       "      <th>8994</th>\n",
       "      <td>8994</td>\n",
       "      <td></td>\n",
       "    </tr>\n",
       "    <tr>\n",
       "      <th>9146</th>\n",
       "      <td>9146</td>\n",
       "      <td></td>\n",
       "    </tr>\n",
       "    <tr>\n",
       "      <th>9256</th>\n",
       "      <td>9256</td>\n",
       "      <td></td>\n",
       "    </tr>\n",
       "    <tr>\n",
       "      <th>9262</th>\n",
       "      <td>9262</td>\n",
       "      <td></td>\n",
       "    </tr>\n",
       "    <tr>\n",
       "      <th>9316</th>\n",
       "      <td>9316</td>\n",
       "      <td></td>\n",
       "    </tr>\n",
       "  </tbody>\n",
       "</table>\n",
       "<p>201 rows × 2 columns</p>\n",
       "</div>"
      ],
      "text/plain": [
       "        id genres\n",
       "125    125       \n",
       "204    204       \n",
       "246    246       \n",
       "270    270       \n",
       "350    350       \n",
       "...    ...    ...\n",
       "8994  8994       \n",
       "9146  9146       \n",
       "9256  9256       \n",
       "9262  9262       \n",
       "9316  9316       \n",
       "\n",
       "[201 rows x 2 columns]"
      ]
     },
     "execution_count": 11,
     "metadata": {},
     "output_type": "execute_result"
    }
   ],
   "source": [
    "# Заметим, что у нас есть диалоги, для которых с текущими трешхолдами не определилось ни одного жанра\n",
    "\n",
    "sample_submission[sample_submission.genres.str.len()==0]"
   ]
  },
  {
   "cell_type": "code",
   "execution_count": 12,
   "metadata": {},
   "outputs": [],
   "source": [
    "# Заполним их самым частым жанром\n",
    "\n",
    "sample_submission.loc[sample_submission.genres.str.len()==0, 'genres'] = 'drama'"
   ]
  },
  {
   "cell_type": "code",
   "execution_count": 13,
   "metadata": {},
   "outputs": [],
   "source": [
    "sample_submission.to_csv('benchmark_2.csv', index=False)"
   ]
  },
  {
   "cell_type": "markdown",
   "metadata": {},
   "source": [
    "Public 0.59939\n",
    "\n",
    "Private 0.60053"
   ]
  }
 ],
 "metadata": {
  "kernelspec": {
   "display_name": "Python 3",
   "language": "python",
   "name": "python3"
  },
  "language_info": {
   "codemirror_mode": {
    "name": "ipython",
    "version": 3
   },
   "file_extension": ".py",
   "mimetype": "text/x-python",
   "name": "python",
   "nbconvert_exporter": "python",
   "pygments_lexer": "ipython3",
   "version": "3.6.8"
  }
 },
 "nbformat": 4,
 "nbformat_minor": 2
}
